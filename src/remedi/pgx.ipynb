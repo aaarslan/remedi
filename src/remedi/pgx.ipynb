{
 "cells": [
  {
   "cell_type": "code",
   "execution_count": 1,
   "metadata": {},
   "outputs": [
    {
     "name": "stdout",
     "output_type": "stream",
     "text": [
      "      rsid genotype_x drugFromSource  \\\n",
      "0  rs15524         AA  carbamazepine   \n",
      "1  rs15524         AA     tacrolimus   \n",
      "2  rs15524         AA  carbamazepine   \n",
      "3  rs15524         AA  carbamazepine   \n",
      "4  rs15524         AA     tacrolimus   \n",
      "\n",
      "                                       phenotypeText  \n",
      "0          increased concentrations of carbamazepine  \n",
      "1  decreased dose-adjusted trough concentrations ...  \n",
      "2          decreased concentrations of carbamazepine  \n",
      "3          decreased concentrations of carbamazepine  \n",
      "4  increased dose-adjusted trough concentrations ...  \n"
     ]
    }
   ],
   "source": [
    "import pandas as pd\n",
    "genetic_data = pd.read_csv(\"./data/aa.tsv\", sep=\"\\t\")\n",
    "pgx_data = pd.read_json(\"./data/pharmacogenomics/combined.json\")\n",
    "merged_data = pd.merge(\n",
    "    genetic_data, pgx_data, left_on=\"rsid\", right_on=\"variantRsId\", how=\"inner\"\n",
    ")\n",
    "\n",
    "relevant_data = merged_data[\n",
    "    [\"rsid\", \"genotype_x\", \"drugFromSource\", \"phenotypeText\"]\n",
    "]\n",
    "\n",
    "print(relevant_data.head())"
   ]
  },
  {
   "cell_type": "code",
   "execution_count": 2,
   "metadata": {},
   "outputs": [
    {
     "name": "stdout",
     "output_type": "stream",
     "text": [
      "            rsid                                        Drug Impact\n",
      "0      rs1001179  [{'drugFromSource': 'ethanol', 'phenotypeText'...\n",
      "1     rs10011796  [{'drugFromSource': 'allopurinol', 'phenotypeT...\n",
      "2     rs10028494  [{'drugFromSource': 'fentanyl', 'phenotypeText...\n",
      "3     rs10030044  [{'drugFromSource': 'tamoxifen', 'phenotypeTex...\n",
      "4     rs10042486  [{'drugFromSource': 'quetiapine', 'phenotypeTe...\n",
      "...          ...                                                ...\n",
      "1066   rs9940629  [{'drugFromSource': 'atenolol', 'phenotypeText...\n",
      "1067   rs9973653  [{'drugFromSource': 'sorafenib', 'phenotypeTex...\n",
      "1068   rs9977268  [{'drugFromSource': 'methotrexate', 'phenotype...\n",
      "1069    rs997917  [{'drugFromSource': 'opioids', 'phenotypeText'...\n",
      "1070   rs9981861  [{'drugFromSource': 'paclitaxel', 'phenotypeTe...\n",
      "\n",
      "[1071 rows x 2 columns]\n"
     ]
    },
    {
     "name": "stderr",
     "output_type": "stream",
     "text": [
      "/tmp/ipykernel_99422/3420242392.py:3: DeprecationWarning: DataFrameGroupBy.apply operated on the grouping columns. This behavior is deprecated, and in a future version of pandas the grouping columns will be excluded from the operation. Either pass `include_groups=False` to exclude the groupings or explicitly select the grouping columns after groupby to silence this warning.\n",
      "  .apply(\n"
     ]
    }
   ],
   "source": [
    "grouped_data = (\n",
    "    relevant_data.groupby(\"rsid\")\n",
    "    .apply(\n",
    "        lambda x: x[[\"drugFromSource\", \"phenotypeText\", \"genotype_x\"]].to_dict(orient=\"records\")\n",
    "    )\n",
    "    .reset_index()\n",
    ")\n",
    "\n",
    "grouped_data.rename(columns={0: \"Drug Impact\"}, inplace=True)\n",
    "print(grouped_data)"
   ]
  },
  {
   "cell_type": "code",
   "execution_count": 3,
   "metadata": {},
   "outputs": [
    {
     "name": "stdout",
     "output_type": "stream",
     "text": [
      "            rsid genotype_x                                        Drug Impact\n",
      "0      rs1001179         CC  [{'drugFromSource': 'ethanol', 'phenotypeText'...\n",
      "1     rs10011796         TT  [{'drugFromSource': 'allopurinol', 'phenotypeT...\n",
      "2     rs10028494         AA  [{'drugFromSource': 'fentanyl', 'phenotypeText...\n",
      "3     rs10030044         GT  [{'drugFromSource': 'tamoxifen', 'phenotypeTex...\n",
      "4     rs10042486         --  [{'drugFromSource': 'quetiapine', 'phenotypeTe...\n",
      "...          ...        ...                                                ...\n",
      "1066   rs9940629         GG  [{'drugFromSource': 'atenolol', 'phenotypeText...\n",
      "1067   rs9973653         GG  [{'drugFromSource': 'sorafenib', 'phenotypeTex...\n",
      "1068   rs9977268         CT  [{'drugFromSource': 'methotrexate', 'phenotype...\n",
      "1069    rs997917         CC  [{'drugFromSource': 'opioids', 'phenotypeText'...\n",
      "1070   rs9981861         TT  [{'drugFromSource': 'paclitaxel', 'phenotypeTe...\n",
      "\n",
      "[1071 rows x 3 columns]\n"
     ]
    },
    {
     "name": "stderr",
     "output_type": "stream",
     "text": [
      "/tmp/ipykernel_99422/4016552502.py:10: DeprecationWarning: DataFrameGroupBy.apply operated on the grouping columns. This behavior is deprecated, and in a future version of pandas the grouping columns will be excluded from the operation. Either pass `include_groups=False` to exclude the groupings or explicitly select the grouping columns after groupby to silence this warning.\n",
      "  .apply(\n"
     ]
    }
   ],
   "source": [
    "merged_data = pd.merge(\n",
    "        genetic_data, pgx_data, left_on=\"rsid\", right_on=\"variantRsId\", how=\"inner\"\n",
    "    )\n",
    "\n",
    "relevant_data = merged_data[\n",
    "    [\"rsid\", \"genotype_x\", \"drugFromSource\", \"phenotypeText\"]\n",
    "]\n",
    "grouped_data = (\n",
    "    relevant_data.groupby([\"rsid\", \"genotype_x\"])\n",
    "    .apply(\n",
    "        lambda x: x[[\"drugFromSource\", \"phenotypeText\", \"genotype_x\"]].to_dict(orient=\"records\")\n",
    "    )\n",
    "    .reset_index()\n",
    ")\n",
    "grouped_data.rename(columns={0: \"Drug Impact\"}, inplace=True)\n",
    "print(grouped_data)"
   ]
  },
  {
   "cell_type": "code",
   "execution_count": 6,
   "metadata": {},
   "outputs": [
    {
     "name": "stdout",
     "output_type": "stream",
     "text": [
      "                         drugFromSource genotype_x  \\\n",
      "0     3,4-methylenedioxymethamphetamine         CT   \n",
      "1                 ace inhibitors, plain         AA   \n",
      "2                 ace inhibitors, plain         AG   \n",
      "3                 ace inhibitors, plain         CT   \n",
      "4                 ace inhibitors, plain         GG   \n",
      "...                                 ...        ...   \n",
      "1172                        ziprasidone         TT   \n",
      "1173                        zoledronate         CT   \n",
      "1174                        zoledronate         GG   \n",
      "1175                         zonisamide         AA   \n",
      "1176                         zonisamide         TT   \n",
      "\n",
      "                                        Genotype Impact  \n",
      "0     [{'rsid': 'rs2242446', 'phenotypeText': 'decre...  \n",
      "1     [{'rsid': 'rs1042713', 'phenotypeText': 'decre...  \n",
      "2     [{'rsid': 'rs2253201', 'phenotypeText': 'decre...  \n",
      "3     [{'rsid': 'rs11209716', 'phenotypeText': 'decr...  \n",
      "4     [{'rsid': 'rs699', 'phenotypeText': 'increased...  \n",
      "...                                                 ...  \n",
      "1172  [{'rsid': 'rs2412459', 'phenotypeText': 'incre...  \n",
      "1173  [{'rsid': 'rs1934951', 'phenotypeText': 'decre...  \n",
      "1174  [{'rsid': 'rs2297480', 'phenotypeText': 'incre...  \n",
      "1175  [{'rsid': 'rs4984241', 'phenotypeText': 'incre...  \n",
      "1176  [{'rsid': 'rs2306719', 'phenotypeText': 'decre...  \n",
      "\n",
      "[1177 rows x 3 columns]\n"
     ]
    },
    {
     "name": "stderr",
     "output_type": "stream",
     "text": [
      "/tmp/ipykernel_99422/3820042336.py:3: DeprecationWarning: DataFrameGroupBy.apply operated on the grouping columns. This behavior is deprecated, and in a future version of pandas the grouping columns will be excluded from the operation. Either pass `include_groups=False` to exclude the groupings or explicitly select the grouping columns after groupby to silence this warning.\n",
      "  .apply(\n"
     ]
    }
   ],
   "source": [
    "group_by_drug = (\n",
    "    relevant_data.groupby([\"drugFromSource\", \"genotype_x\"])\n",
    "    .apply(\n",
    "        lambda x: x[[\"rsid\", \"phenotypeText\", \"genotype_x\"]].to_dict(orient=\"records\")\n",
    "    )\n",
    "    .reset_index()\n",
    ")\n",
    "group_by_drug.rename(columns={0: \"Genotype Impact\"}, inplace=True)\n",
    "print(group_by_drug)\n"
   ]
  }
 ],
 "metadata": {
  "kernelspec": {
   "display_name": ".venv",
   "language": "python",
   "name": "python3"
  },
  "language_info": {
   "codemirror_mode": {
    "name": "ipython",
    "version": 3
   },
   "file_extension": ".py",
   "mimetype": "text/x-python",
   "name": "python",
   "nbconvert_exporter": "python",
   "pygments_lexer": "ipython3",
   "version": "3.12.2"
  }
 },
 "nbformat": 4,
 "nbformat_minor": 2
}
