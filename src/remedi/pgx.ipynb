{
 "cells": [
  {
   "cell_type": "code",
   "execution_count": 5,
   "metadata": {},
   "outputs": [],
   "source": [
    "import pandas as pd\n",
    "\n",
    "# Load your datasets\n",
    "genetic_data = pd.read_csv(\"./data/snpedia_data.csv\", sep=\",\")\n",
    "pgx_data = pd.read_json(\"./data/pharmacogenomics/combined.json\")\n",
    "\n",
    "# Merge the datasets on the 'rsid'\n",
    "merged_data = pd.merge(\n",
    "    genetic_data, pgx_data, left_on=\"rsid\", right_on=\"variantRsId\", how=\"inner\"\n",
    ")\n",
    "\n",
    "# Create a CSV file with the merged data\n",
    "merged_data.to_csv(\"./data/merged_data.csv\", index=False)\n",
    "\n"
   ]
  },
  {
   "cell_type": "code",
   "execution_count": null,
   "metadata": {},
   "outputs": [],
   "source": []
  }
 ],
 "metadata": {
  "kernelspec": {
   "display_name": ".venv",
   "language": "python",
   "name": "python3"
  },
  "language_info": {
   "codemirror_mode": {
    "name": "ipython",
    "version": 3
   },
   "file_extension": ".py",
   "mimetype": "text/x-python",
   "name": "python",
   "nbconvert_exporter": "python",
   "pygments_lexer": "ipython3",
   "version": "3.12.2"
  }
 },
 "nbformat": 4,
 "nbformat_minor": 2
}
