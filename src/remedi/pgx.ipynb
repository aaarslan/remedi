{
 "cells": [
  {
   "cell_type": "code",
   "execution_count": 16,
   "metadata": {},
   "outputs": [
    {
     "name": "stdout",
     "output_type": "stream",
     "text": [
      "         rsid chromosome  position genotype drugFromSource  \\\n",
      "0     rs15524          7  99245914       AA  carbamazepine   \n",
      "4     rs15524          7  99245914       AA     tacrolimus   \n",
      "7   rs1800629          6  31543031       GG    carboplatin   \n",
      "14  rs1800629          6  31543031       GG     ethambutol   \n",
      "16  rs1800629          6  31543031       GG      isoniazid   \n",
      "\n",
      "                                        phenotypeText evidenceLevel  \n",
      "0           increased concentrations of carbamazepine             3  \n",
      "4   increased dose-adjusted trough concentrations ...             3  \n",
      "7              decreased severity of thrombocytopenia             3  \n",
      "14        decreased likelihood of Toxic liver disease             3  \n",
      "16        decreased likelihood of Toxic liver disease             3  \n"
     ]
    }
   ],
   "source": [
    "import pandas as pd\n",
    "\n",
    "# Load your datasets\n",
    "genetic_data = pd.read_csv(\"./data/aa.tsv\", sep=\"\\t\")\n",
    "pgx_data = pd.read_json(\"./data/pharmacogenomics/combined.json\")\n",
    "\n",
    "# Merge the datasets on the 'rsid'\n",
    "merged_data = pd.merge(\n",
    "    genetic_data, pgx_data, left_on=\"rsid\", right_on=\"variantRsId\", how=\"inner\"\n",
    ")\n",
    "\n",
    "# Filter for relevant columns\n",
    "# You may adjust the list of columns based on what's relevant for your analysis\n",
    "relevant_columns = [\n",
    "    \"rsid\",\n",
    "    \"chromosome\",\n",
    "    \"position\",\n",
    "    \"genotype_x\",\n",
    "    \"drugFromSource\",\n",
    "    \"phenotypeText\",\n",
    "    \"evidenceLevel\",\n",
    "    \"genotype_y\",\n",
    "]\n",
    "\n",
    "filtered_data = merged_data[relevant_columns]\n",
    "\n",
    "# Ensure that the genotype columns match if necessary\n",
    "filtered_data = filtered_data[\n",
    "    filtered_data[\"genotype_x\"] == filtered_data[\"genotype_y\"]\n",
    "]\n",
    "\n",
    "# Drop the duplicate genotype column\n",
    "filtered_data.drop(columns=[\"genotype_y\"], inplace=True)\n",
    "\n",
    "# Rename columns for clarity\n",
    "filtered_data.rename(columns={\"genotype_x\": \"genotype\"}, inplace=True)\n",
    "\n",
    "# Print the first few rows to check the results\n",
    "print(filtered_data.head())"
   ]
  }
 ],
 "metadata": {
  "kernelspec": {
   "display_name": ".venv",
   "language": "python",
   "name": "python3"
  },
  "language_info": {
   "codemirror_mode": {
    "name": "ipython",
    "version": 3
   },
   "file_extension": ".py",
   "mimetype": "text/x-python",
   "name": "python",
   "nbconvert_exporter": "python",
   "pygments_lexer": "ipython3",
   "version": "3.12.2"
  }
 },
 "nbformat": 4,
 "nbformat_minor": 2
}
